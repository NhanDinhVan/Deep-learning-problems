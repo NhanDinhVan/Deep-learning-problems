{
 "cells": [
  {
   "cell_type": "code",
   "id": "initial_id",
   "metadata": {
    "collapsed": true,
    "ExecuteTime": {
     "end_time": "2025-03-01T15:58:54.873611Z",
     "start_time": "2025-03-01T15:58:51.431307Z"
    }
   },
   "source": [
    "import torch\n",
    "import torch.nn as nn\n",
    "import torchvision\n",
    "import torchvision.transforms as transforms\n",
    "from torch.cuda import device"
   ],
   "outputs": [],
   "execution_count": 1
  },
  {
   "metadata": {
    "ExecuteTime": {
     "end_time": "2025-03-01T15:58:58.133707Z",
     "start_time": "2025-03-01T15:58:58.129111Z"
    }
   },
   "cell_type": "code",
   "source": [
    "transform = transforms.Compose([\n",
    "    transforms.ToTensor(),\n",
    "    transforms.Normalize((0.5,), (0.5,))\n",
    "])"
   ],
   "id": "c2044ecb02ae739b",
   "outputs": [],
   "execution_count": 3
  },
  {
   "metadata": {
    "ExecuteTime": {
     "end_time": "2025-03-01T15:59:00.835706Z",
     "start_time": "2025-03-01T15:59:00.831999Z"
    }
   },
   "cell_type": "code",
   "source": [
    "input_size = 32*3\n",
    "hidden_size = 128\n",
    "output_size = 10\n"
   ],
   "id": "2b3e13d35881b0a2",
   "outputs": [],
   "execution_count": 4
  },
  {
   "metadata": {
    "ExecuteTime": {
     "end_time": "2025-03-01T15:59:04.192586Z",
     "start_time": "2025-03-01T15:59:02.656737Z"
    }
   },
   "cell_type": "code",
   "source": [
    "trainset = torchvision.datasets.CIFAR10(root='./data', train=True, download=True, transform=transform)\n",
    "testset = torchvision.datasets.CIFAR10(root='./data', train=False, download=True, transform=transform)\n",
    "\n",
    "trainloader = torch.utils.data.DataLoader(trainset, batch_size=64, shuffle=True)\n",
    "testloader = torch.utils.data.DataLoader(testset, batch_size=64, shuffle=True)\n"
   ],
   "id": "733557ff482a0a3f",
   "outputs": [
    {
     "name": "stdout",
     "output_type": "stream",
     "text": [
      "Files already downloaded and verified\n",
      "Files already downloaded and verified\n"
     ]
    }
   ],
   "execution_count": 5
  },
  {
   "metadata": {
    "ExecuteTime": {
     "end_time": "2025-03-01T15:59:05.737082Z",
     "start_time": "2025-03-01T15:59:05.732433Z"
    }
   },
   "cell_type": "code",
   "source": [
    "def preprocess_images(image):\n",
    "    return image.view(image.size(0), 32, -1)"
   ],
   "id": "d89f62c827e1bfcb",
   "outputs": [],
   "execution_count": 6
  },
  {
   "metadata": {
    "ExecuteTime": {
     "end_time": "2025-03-01T15:59:07.725294Z",
     "start_time": "2025-03-01T15:59:07.719832Z"
    }
   },
   "cell_type": "code",
   "source": [
    "class RnnClassifier(nn.Module):\n",
    "    def __init__(self, input_size, hidden_size, output_size):\n",
    "        super(RnnClassifier, self).__init__()\n",
    "        self.hidden_size = hidden_size\n",
    "        self.rnn = nn.RNN(input_size, hidden_size, batch_first=True)\n",
    "        self.fc = nn.Linear(hidden_size, output_size)\n",
    "        \n",
    "    def forward(self, x):\n",
    "        h0 = torch.zeros(1, x.size(0), self.hidden_size).to(x.device)\n",
    "        out, _ = self.rnn(x, h0)\n",
    "        out = self.fc(out[:, -1, :])\n",
    "        return out\n",
    "    \n",
    "    \n",
    "\n",
    "        "
   ],
   "id": "ba48d8f1e89c3b7c",
   "outputs": [],
   "execution_count": 7
  },
  {
   "metadata": {
    "ExecuteTime": {
     "end_time": "2025-03-01T15:59:11.563398Z",
     "start_time": "2025-03-01T15:59:11.556614Z"
    }
   },
   "cell_type": "code",
   "source": [
    "model = RnnClassifier(input_size, hidden_size, output_size)\n",
    "criterion = nn.CrossEntropyLoss()\n",
    "optimizer = torch.optim.Adam(model.parameters(), lr=0.001)"
   ],
   "id": "fc481dd5e96b1eb8",
   "outputs": [],
   "execution_count": 8
  },
  {
   "metadata": {
    "ExecuteTime": {
     "end_time": "2025-03-01T15:59:14.400280Z",
     "start_time": "2025-03-01T15:59:13.314621Z"
    }
   },
   "cell_type": "code",
   "source": [
    "device = torch.device(\"cuda\" if torch.cuda.is_available() else \"cpu\")\n",
    "model.to(device)"
   ],
   "id": "9d6c67f03fe89ccb",
   "outputs": [
    {
     "data": {
      "text/plain": [
       "RnnClassifier(\n",
       "  (rnn): RNN(96, 128, batch_first=True)\n",
       "  (fc): Linear(in_features=128, out_features=10, bias=True)\n",
       ")"
      ]
     },
     "execution_count": 9,
     "metadata": {},
     "output_type": "execute_result"
    }
   ],
   "execution_count": 9
  },
  {
   "metadata": {
    "ExecuteTime": {
     "end_time": "2025-03-01T16:07:46.537238Z",
     "start_time": "2025-03-01T16:03:22.877247Z"
    }
   },
   "cell_type": "code",
   "source": [
    "num_epochs = 20\n",
    "model.train()\n",
    "for epoch in range(num_epochs):\n",
    "    for images, labels in trainloader:\n",
    "        images, labels = images.to(device), labels.to(device)\n",
    "        images = preprocess_images(images)\n",
    "        \n",
    "        output = model(images)\n",
    "        loss = criterion(output, labels)\n",
    "        \n",
    "        optimizer.zero_grad()\n",
    "        loss.backward()\n",
    "        optimizer.step()\n",
    "    print(f'Epoch [{epoch+1}/{num_epochs}], Loss: {loss.item():.4f}')"
   ],
   "id": "278cbd264a3d3ef9",
   "outputs": [
    {
     "name": "stdout",
     "output_type": "stream",
     "text": [
      "Epoch [1/20], Loss: 0.7262\n",
      "Epoch [2/20], Loss: 1.6800\n",
      "Epoch [3/20], Loss: 1.3467\n",
      "Epoch [4/20], Loss: 1.2007\n",
      "Epoch [5/20], Loss: 1.5891\n",
      "Epoch [6/20], Loss: 1.3017\n",
      "Epoch [7/20], Loss: 0.9723\n",
      "Epoch [8/20], Loss: 1.3415\n",
      "Epoch [9/20], Loss: 1.5153\n",
      "Epoch [10/20], Loss: 1.2121\n",
      "Epoch [11/20], Loss: 1.4528\n",
      "Epoch [12/20], Loss: 0.8860\n",
      "Epoch [13/20], Loss: 1.2968\n",
      "Epoch [14/20], Loss: 1.1757\n",
      "Epoch [15/20], Loss: 1.0293\n",
      "Epoch [16/20], Loss: 1.0023\n",
      "Epoch [17/20], Loss: 1.7847\n",
      "Epoch [18/20], Loss: 1.0869\n",
      "Epoch [19/20], Loss: 1.0495\n",
      "Epoch [20/20], Loss: 1.1372\n"
     ]
    }
   ],
   "execution_count": 13
  },
  {
   "metadata": {
    "ExecuteTime": {
     "end_time": "2025-03-01T16:07:53.198982Z",
     "start_time": "2025-03-01T16:07:50.435597Z"
    }
   },
   "cell_type": "code",
   "source": [
    "def evaluate():\n",
    "    model.eval()\n",
    "    correct = 0\n",
    "    total = 0\n",
    "    with torch.no_grad():\n",
    "        for images, labels in testloader:\n",
    "            images, labels = images.to(device), labels.to(device)\n",
    "            images = preprocess_images(images)  # Chuyển ảnh thành chuỗi\n",
    "            \n",
    "            outputs = model(images)\n",
    "            _, predicted = torch.max(outputs, 1)\n",
    "            total += labels.size(0)\n",
    "            correct += (predicted == labels).sum().item()\n",
    "    \n",
    "    accuracy = 100 * correct / total\n",
    "    print(f'Độ chính xác trên tập test: {accuracy:.2f}%')\n",
    "\n",
    "evaluate()"
   ],
   "id": "bc7a8191d9bea96f",
   "outputs": [
    {
     "name": "stdout",
     "output_type": "stream",
     "text": [
      "Độ chính xác trên tập test: 46.15%\n"
     ]
    }
   ],
   "execution_count": 14
  }
 ],
 "metadata": {
  "kernelspec": {
   "display_name": "Python 3",
   "language": "python",
   "name": "python3"
  },
  "language_info": {
   "codemirror_mode": {
    "name": "ipython",
    "version": 2
   },
   "file_extension": ".py",
   "mimetype": "text/x-python",
   "name": "python",
   "nbconvert_exporter": "python",
   "pygments_lexer": "ipython2",
   "version": "2.7.6"
  }
 },
 "nbformat": 4,
 "nbformat_minor": 5
}
