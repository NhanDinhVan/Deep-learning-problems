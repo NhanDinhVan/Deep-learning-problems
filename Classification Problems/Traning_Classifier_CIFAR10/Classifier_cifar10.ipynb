{
 "cells": [
  {
   "metadata": {},
   "cell_type": "markdown",
   "source": [
    "For this tutorial, we will use the CIFAR10 dataset. It has the classes: ‘airplane’, ‘automobile’, ‘bird’, ‘cat’, ‘deer’, ‘dog’, ‘frog’, ‘horse’, ‘ship’, ‘truck’. The images in CIFAR-10 are of size 3x32x32, i.e. 3-channel color images of 32x32 pixels in size.Training an image classifier\n",
    "\n",
    "# We will do the following steps in order:\n",
    "\n",
    "- Load and normalize the CIFAR10 training and test datasets using torchvision\n",
    "\n",
    "- Define a Convolutional Neural Network\n",
    "\n",
    "- Define a loss function\n",
    "\n",
    "- Train the network on the training data\n",
    "\n",
    "- Test the network on the test data"
   ],
   "id": "85d6e6739078e010"
  },
  {
   "cell_type": "code",
   "id": "initial_id",
   "metadata": {
    "collapsed": true,
    "ExecuteTime": {
     "end_time": "2025-02-27T18:08:57.185537Z",
     "start_time": "2025-02-27T18:08:31.463865Z"
    }
   },
   "source": [
    "import torch \n",
    "import torchvision\n",
    "import torchvision.transforms as transforms"
   ],
   "outputs": [],
   "execution_count": 1
  },
  {
   "metadata": {
    "ExecuteTime": {
     "end_time": "2025-02-27T18:11:33.229826Z",
     "start_time": "2025-02-27T18:11:33.219700Z"
    }
   },
   "cell_type": "code",
   "source": [
    "transform = transforms.Compose(\n",
    "    [\n",
    "        transforms.ToTensor(),\n",
    "        transforms.Normalize((0.5, 0.5, 0.5), (0.5, 0.5, 0.5))\n",
    "    ]\n",
    ")"
   ],
   "id": "5142a66672fd094c",
   "outputs": [],
   "execution_count": 2
  },
  {
   "metadata": {
    "ExecuteTime": {
     "end_time": "2025-02-27T18:17:51.106807Z",
     "start_time": "2025-02-27T18:17:27.038801Z"
    }
   },
   "cell_type": "code",
   "source": [
    "batch_size = 4\n",
    "\n",
    "trainSet = torchvision.datasets.CIFAR10(root='./data', train=True, download=True, transform=transform)\n",
    "testSet = torchvision.datasets.CIFAR10(root='./data', train=False, download=True, transform=transform)\n",
    "\n",
    "trainLoader = torch.utils.data.DataLoader(trainSet, batch_size=batch_size, shuffle=True, num_workers=2)\n",
    "testLoader = torch.utils.data.DataLoader(testSet, batch_size=batch_size, shuffle=False, num_workers=2)\n",
    "\n",
    "classes = ('plane', 'car', 'bird', 'cat', 'deer', 'dog', 'frog', 'horse', 'ship', 'truck')"
   ],
   "id": "80455824451fd8e2",
   "outputs": [
    {
     "name": "stdout",
     "output_type": "stream",
     "text": [
      "Downloading https://www.cs.toronto.edu/~kriz/cifar-10-python.tar.gz to ./data\\cifar-10-python.tar.gz\n"
     ]
    },
    {
     "name": "stderr",
     "output_type": "stream",
     "text": [
      "100.0%\n"
     ]
    },
    {
     "name": "stdout",
     "output_type": "stream",
     "text": [
      "Extracting ./data\\cifar-10-python.tar.gz to ./data\n",
      "Files already downloaded and verified\n"
     ]
    }
   ],
   "execution_count": 3
  },
  {
   "metadata": {
    "ExecuteTime": {
     "end_time": "2025-02-28T01:34:27.100501Z",
     "start_time": "2025-02-28T01:34:18.291571Z"
    }
   },
   "cell_type": "code",
   "source": [
    "import matplotlib.pyplot as plt \n",
    "import numpy as np\n",
    "\n",
    "def imgShow(img):\n",
    "    img = img / 2 + 0.5\n",
    "    npImg = img.numpy()\n",
    "    print(np.shape(npImg))\n",
    "    plt.imshow(np.transpose(npImg, (1,2,0)))\n",
    "    # plt.imshow(npImg)\n",
    "    plt.show()\n",
    "    \n",
    "# get some random training images\n",
    "dataiter = iter(trainLoader)\n",
    "images, labels = next(dataiter)\n",
    "\n",
    "# show images\n",
    "imgShow(torchvision.utils.make_grid(images))\n",
    "# print labels\n",
    "print(' '.join(f'{classes[labels[j]]:5s}' for j in range(batch_size)))"
   ],
   "id": "a237f7653f22db78",
   "outputs": [
    {
     "name": "stdout",
     "output_type": "stream",
     "text": [
      "(3, 36, 138)\n"
     ]
    },
    {
     "data": {
      "text/plain": [
       "<Figure size 640x480 with 1 Axes>"
      ],
      "image/png": "[encoded data removed]"
     },
     "metadata": {},
     "output_type": "display_data"
    },
    {
     "name": "stdout",
     "output_type": "stream",
     "text": [
      "bird  truck bird  frog \n"
     ]
    }
   ],
   "execution_count": 13
  },
  {
   "metadata": {},
   "cell_type": "markdown",
   "source": "",
   "id": "26c126e6c8742da3"
  },
  {
   "metadata": {
    "ExecuteTime": {
     "end_time": "2025-02-28T01:49:57.936585Z",
     "start_time": "2025-02-28T01:49:57.930493Z"
    }
   },
   "cell_type": "code",
   "source": [
    "import torch.nn as nn \n",
    "import torch.nn.functional as F\n",
    "\n",
    "class Net(nn.Module):\n",
    "    def __init__(self):\n",
    "        super().__init__()\n",
    "        self.conv1 = nn.Conv2d(3, 6, 5)\n",
    "        self.pool = nn.MaxPool2d(2, 2)\n",
    "        self.conv2 = nn.Conv2d(6, 16, 5)\n",
    "        self.fc1 = nn.Linear(16*5*5, 120)\n",
    "        self.fc2 = nn.Linear(120, 80)\n",
    "        self.fc3 = nn.Linear(80, 10)\n",
    "    def forward(self, x):\n",
    "        x = self.pool(F.relu(self.conv1(x)))\n",
    "        x = self.pool(F.relu(self.conv2(x)))\n",
    "        \n",
    "        x = torch.flatten(x, 1)\n",
    "        x = F.relu(self.fc1(x))\n",
    "        x = F.relu(self.fc2(x))\n",
    "        x = self.fc3(x)\n",
    "        \n",
    "        return x\n",
    "\n",
    "        "
   ],
   "id": "234d8f23561522b",
   "outputs": [],
   "execution_count": 19
  },
  {
   "metadata": {
    "ExecuteTime": {
     "end_time": "2025-02-28T01:49:59.223449Z",
     "start_time": "2025-02-28T01:49:59.216596Z"
    }
   },
   "cell_type": "code",
   "source": [
    "import torch.optim as optim\n",
    "\n",
    "net = Net()\n",
    "\n",
    "criterion = nn.CrossEntropyLoss()\n",
    "optimizer = optim.SGD(net.parameters(), lr=0.001, momentum=0.9)"
   ],
   "id": "d2ad1486c0dbee38",
   "outputs": [],
   "execution_count": 20
  },
  {
   "metadata": {
    "ExecuteTime": {
     "end_time": "2025-02-28T02:10:07.197916Z",
     "start_time": "2025-02-28T02:02:21.298083Z"
    }
   },
   "cell_type": "code",
   "source": [
    "epochs = 10\n",
    "\n",
    "for epoch in range(epochs):\n",
    "    running_loss = 0.0\n",
    "    \n",
    "    for i, data in enumerate(trainLoader, 0):\n",
    "        inputs, labels = data\n",
    "        \n",
    "        optimizer.zero_grad()\n",
    "        \n",
    "        outputs = net(inputs)\n",
    "        loss = criterion(outputs, labels)\n",
    "        loss.backward()\n",
    "        optimizer.step()\n",
    "        \n",
    "        running_loss += loss.item()\n",
    "        \n",
    "        if i % 2000 == 1999:\n",
    "            print(f'[{epoch + 1}, {i + 1:5d}] loss: {running_loss / 2000:.3f}')\n",
    "            running_loss = 0.0\n",
    "print('Finished Training')"
   ],
   "id": "c3367557ea2e6485",
   "outputs": [
    {
     "name": "stdout",
     "output_type": "stream",
     "text": [
      "[1,  2000] loss: 2.197\n",
      "[1,  4000] loss: 1.921\n",
      "[1,  6000] loss: 1.690\n",
      "[1,  8000] loss: 1.574\n",
      "[1, 10000] loss: 1.517\n",
      "[1, 12000] loss: 1.466\n",
      "[2,  2000] loss: 1.395\n",
      "[2,  4000] loss: 1.374\n",
      "[2,  6000] loss: 1.356\n",
      "[2,  8000] loss: 1.329\n",
      "[2, 10000] loss: 1.309\n",
      "[2, 12000] loss: 1.302\n",
      "[3,  2000] loss: 1.231\n",
      "[3,  4000] loss: 1.211\n",
      "[3,  6000] loss: 1.233\n",
      "[3,  8000] loss: 1.206\n",
      "[3, 10000] loss: 1.185\n",
      "[3, 12000] loss: 1.178\n",
      "[4,  2000] loss: 1.096\n",
      "[4,  4000] loss: 1.115\n",
      "[4,  6000] loss: 1.122\n",
      "[4,  8000] loss: 1.122\n",
      "[4, 10000] loss: 1.126\n",
      "[4, 12000] loss: 1.118\n",
      "[5,  2000] loss: 1.007\n",
      "[5,  4000] loss: 1.056\n",
      "[5,  6000] loss: 1.061\n",
      "[5,  8000] loss: 1.055\n",
      "[5, 10000] loss: 1.064\n",
      "[5, 12000] loss: 1.064\n",
      "[6,  2000] loss: 0.968\n",
      "[6,  4000] loss: 0.986\n",
      "[6,  6000] loss: 0.981\n",
      "[6,  8000] loss: 0.994\n",
      "[6, 10000] loss: 1.018\n",
      "[6, 12000] loss: 1.013\n",
      "[7,  2000] loss: 0.926\n",
      "[7,  4000] loss: 0.917\n",
      "[7,  6000] loss: 0.928\n",
      "[7,  8000] loss: 0.947\n",
      "[7, 10000] loss: 0.966\n",
      "[7, 12000] loss: 0.976\n",
      "[8,  2000] loss: 0.862\n",
      "[8,  4000] loss: 0.884\n",
      "[8,  6000] loss: 0.903\n",
      "[8,  8000] loss: 0.930\n",
      "[8, 10000] loss: 0.924\n",
      "[8, 12000] loss: 0.930\n",
      "[9,  2000] loss: 0.841\n",
      "[9,  4000] loss: 0.856\n",
      "[9,  6000] loss: 0.886\n",
      "[9,  8000] loss: 0.864\n",
      "[9, 10000] loss: 0.900\n",
      "[9, 12000] loss: 0.888\n",
      "[10,  2000] loss: 0.814\n",
      "[10,  4000] loss: 0.820\n",
      "[10,  6000] loss: 0.836\n",
      "[10,  8000] loss: 0.845\n",
      "[10, 10000] loss: 0.847\n",
      "[10, 12000] loss: 0.893\n",
      "Finished Training\n"
     ]
    }
   ],
   "execution_count": 21
  },
  {
   "metadata": {
    "ExecuteTime": {
     "end_time": "2025-02-28T02:11:55.603345Z",
     "start_time": "2025-02-28T02:11:55.594922Z"
    }
   },
   "cell_type": "code",
   "source": [
    "PATH = './cifar_net.pth'\n",
    "torch.save(net.state_dict(), PATH)"
   ],
   "id": "b08e4f799165a79d",
   "outputs": [],
   "execution_count": 22
  },
  {
   "metadata": {
    "ExecuteTime": {
     "end_time": "2025-02-28T02:12:56.536140Z",
     "start_time": "2025-02-28T02:12:48.796531Z"
    }
   },
   "cell_type": "code",
   "source": [
    "dataiter = iter(testLoader)\n",
    "images, labels = next(dataiter)\n",
    "\n",
    "# print images\n",
    "imgShow(torchvision.utils.make_grid(images))\n",
    "print('GroundTruth: ', ' '.join(f'{classes[labels[j]]:5s}' for j in range(4)))"
   ],
   "id": "bd2fde595f5fd190",
   "outputs": [
    {
     "name": "stdout",
     "output_type": "stream",
     "text": [
      "(3, 36, 138)\n"
     ]
    },
    {
     "data": {
      "text/plain": [
       "<Figure size 640x480 with 1 Axes>"
      ],
      "image/png": "[encoded data removed]"
     },
     "metadata": {},
     "output_type": "display_data"
    },
    {
     "name": "stdout",
     "output_type": "stream",
     "text": [
      "GroundTruth:  cat   ship  ship  plane\n"
     ]
    }
   ],
   "execution_count": 24
  },
  {
   "metadata": {
    "ExecuteTime": {
     "end_time": "2025-02-28T02:13:38.678502Z",
     "start_time": "2025-02-28T02:13:38.667723Z"
    }
   },
   "cell_type": "code",
   "source": [
    "net = Net()\n",
    "net.load_state_dict(torch.load(PATH, weights_only=True))"
   ],
   "id": "2620da022f37ad78",
   "outputs": [
    {
     "data": {
      "text/plain": [
       "<All keys matched successfully>"
      ]
     },
     "execution_count": 25,
     "metadata": {},
     "output_type": "execute_result"
    }
   ],
   "execution_count": 25
  },
  {
   "metadata": {
    "ExecuteTime": {
     "end_time": "2025-02-28T02:13:57.064716Z",
     "start_time": "2025-02-28T02:13:57.057544Z"
    }
   },
   "cell_type": "code",
   "source": "outputs = net(images)",
   "id": "1a39268f384bbfbe",
   "outputs": [],
   "execution_count": 26
  },
  {
   "metadata": {
    "ExecuteTime": {
     "end_time": "2025-02-28T02:14:16.850141Z",
     "start_time": "2025-02-28T02:14:16.836911Z"
    }
   },
   "cell_type": "code",
   "source": [
    "_, predicted = torch.max(outputs, 1)\n",
    "\n",
    "print('Predicted: ', ' '.join(f'{classes[predicted[j]]:5s}'\n",
    "                              for j in range(4)))"
   ],
   "id": "231725590729ef9a",
   "outputs": [
    {
     "name": "stdout",
     "output_type": "stream",
     "text": [
      "Predicted:  cat   ship  car   plane\n"
     ]
    }
   ],
   "execution_count": 27
  },
  {
   "metadata": {
    "ExecuteTime": {
     "end_time": "2025-02-28T02:17:52.236101Z",
     "start_time": "2025-02-28T02:17:41.461215Z"
    }
   },
   "cell_type": "code",
   "source": [
    "correct = 0\n",
    "total = 0\n",
    "# since we're not training, we don't need to calculate the gradients for our outputs\n",
    "with torch.no_grad():\n",
    "    for data in testLoader:\n",
    "        images, labels = data\n",
    "        # calculate outputs by running images through the network\n",
    "        outputs = net(images)\n",
    "        # the class with the highest energy is what we choose as prediction\n",
    "        _, predicted = torch.max(outputs, 1)\n",
    "        total += labels.size(0)\n",
    "        correct += (predicted == labels).sum().item()\n",
    "\n",
    "print(f'Accuracy of the network on the 10000 test images: {100 * correct // total} %')"
   ],
   "id": "1c3e83dc78964769",
   "outputs": [
    {
     "name": "stdout",
     "output_type": "stream",
     "text": [
      "Accuracy of the network on the 10000 test images: 61 %\n"
     ]
    }
   ],
   "execution_count": 28
  }
 ],
 "metadata": {
  "kernelspec": {
   "display_name": "Python 3",
   "language": "python",
   "name": "python3"
  },
  "language_info": {
   "codemirror_mode": {
    "name": "ipython",
    "version": 2
   },
   "file_extension": ".py",
   "mimetype": "text/x-python",
   "name": "python",
   "nbconvert_exporter": "python",
   "pygments_lexer": "ipython2",
   "version": "2.7.6"
  }
 },
 "nbformat": 4,
 "nbformat_minor": 5
}
